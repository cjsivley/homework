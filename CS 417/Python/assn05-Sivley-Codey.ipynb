{
 "cells": [
  {
   "cell_type": "markdown",
   "id": "b5214ed3-f3c4-4413-80c0-b9bd957f49de",
   "metadata": {},
   "source": [
    "CS417 Assignment 05\n",
    "---\n",
    "More Fun With Python\n",
    "---\n",
    "\n",
    "# Problem 1(Easy) \n",
    "Write a function named `occurrences` in Python  that takes a list and some object returns the a new list that\n",
    "    contains the elements in the first list equal to the key.\n",
    "    "
   ]
  },
  {
   "cell_type": "code",
   "execution_count": 48,
   "id": "19dd3781-6336-4ba4-af0a-ccce5efc85ee",
   "metadata": {
    "tags": []
   },
   "outputs": [
    {
     "name": "stdout",
     "output_type": "stream",
     "text": [
      "['do', 'do']\n",
      "[]\n"
     ]
    }
   ],
   "source": [
    "#occurrences function\n",
    "#input: list and key\n",
    "#output: new list of items == to key object\n",
    "def occurrences(myList, key):\n",
    "    newList = []\n",
    "    for x in myList:\n",
    "        newList.append(key) if key == x else None\n",
    "    return newList\n",
    "\n",
    "stuff = [\"how\", \"do\", \"you\", \"do\", \"?\"]\n",
    "print(occurrences(stuff, \"do\"))\n",
    "print(occurrences(stuff, \"don't\"))"
   ]
  },
  {
   "cell_type": "markdown",
   "id": "217a51f9-8ce4-490b-9f50-830d9720e32c",
   "metadata": {},
   "source": [
    "# Problem 2 (Easy)\n",
    "Write a function in Python named `numSmaller` that\n",
    "    given a parameter containing a list of size 1 or greater and some\n",
    "    numeric parameter returns the number of elements that are strictly\n",
    "    **less** than that number."
   ]
  },
  {
   "cell_type": "code",
   "execution_count": 4,
   "id": "3717c6f8-4078-44e5-bb70-c62bb7dae0fe",
   "metadata": {
    "tags": []
   },
   "outputs": [
    {
     "name": "stdout",
     "output_type": "stream",
     "text": [
      "[1, 2, 3, 4]\n",
      "None\n"
     ]
    }
   ],
   "source": [
    "#numSmaller function\n",
    "#input: list and some target\n",
    "#output: a new list of items smaller than target in input list\n",
    "def numSmaller(sourceList, target):\n",
    "    if not sourceList: return None\n",
    "    results = []\n",
    "    for x in sourceList:\n",
    "        if x < target: \n",
    "            results.append(x)\n",
    "    return results\n",
    "nums = [1,2,3,4,5,6,7,8,9,10]\n",
    "emptyList = []\n",
    "print(numSmaller(nums, 5))\n",
    "print(numSmaller(emptyList, 5))"
   ]
  },
  {
   "cell_type": "markdown",
   "id": "ec4bda44-1b7b-4b4a-b08e-79b3b9bf6da5",
   "metadata": {},
   "source": [
    "# Problem 3 (Easy) \n",
    "Write a function in Python named `secondSmallest`\n",
    "    takes a list of size 1 or greater and returns the position of the\n",
    "    second smallest element of the list.   In the case, where the\n",
    "    smallest entry in the list occurs more than once, the second\n",
    "    occurrence of the item would be the second smallest entry.  For\n",
    "    example, in the list `[1,1,1,2,3]`, the position returned\n",
    "    would be 1.\n",
    "    \n",
    "    "
   ]
  },
  {
   "cell_type": "code",
   "execution_count": 32,
   "id": "9f374dee-e226-4b3f-bedc-7e3c6d0e07a9",
   "metadata": {},
   "outputs": [
    {
     "name": "stdout",
     "output_type": "stream",
     "text": [
      "[10, 1, 4, 0, 18, 0, 0, 15, 3, 9000]\n",
      "The index of the second smallest element is: 5\n",
      "[100, 200, 300, 400]\n",
      "The index of the second smallest element is: 1\n"
     ]
    }
   ],
   "source": [
    "#secondSmallest function\n",
    "#input: list\n",
    "#output: position of second smallest element\n",
    "#ASSUMING THE LIST ISN'T SORTED\n",
    "def secondSmallest(myList):\n",
    "    if not myList: return None\n",
    "    \n",
    "    small = myList.index(min(myList)) #min returns first occurrance of multiple smallest\n",
    "    myList[small] = float('inf') #set smallest to infinity so we can ignore it, but also preserve indexing\n",
    "    small = myList.index(min(myList))#now small is second smallest, or second occurance of smallest\n",
    "    return small\n",
    "\n",
    "nums1 = [10, 1, 4, 0, 18, 0, 0, 15, 3, 9000]\n",
    "nums2 = [100,200,300,400]\n",
    "print(str(nums1) + \"\\nThe index of the second smallest element is: \" + str(secondSmallest(nums1)))\n",
    "print(str(nums2) + \"\\nThe index of the second smallest element is: \" + str(secondSmallest(nums2)))\n",
    "        "
   ]
  },
  {
   "cell_type": "markdown",
   "id": "7ba72920",
   "metadata": {},
   "source": [
    "**Codey's Note:**\n",
    "What the heck is pass by object reference? I started off by creating a copy of the original list so I wouldn't edit the source. During some research I found: https://robertheaton.com/2014/02/09/pythons-pass-by-object-reference-as-explained-by-philip-k-dick/\n",
    "Now I'm extra confused. Considering the following:"
   ]
  },
  {
   "cell_type": "code",
   "execution_count": 43,
   "id": "fac5dac3",
   "metadata": {},
   "outputs": [
    {
     "name": "stdout",
     "output_type": "stream",
     "text": [
      "[0, 1]\n",
      "[]\n",
      "[0, 1]\n",
      "[0, 1, 2]\n",
      "[0, 1, 2]\n"
     ]
    }
   ],
   "source": [
    "def emptyList(myList):\n",
    "    myList = []\n",
    "    print(myList) #shows list within function scope is altered\n",
    "def appList(myList):\n",
    "    myList.append(2)\n",
    "\n",
    "listA = [0]\n",
    "listB = listA\n",
    "listB.append(1)\n",
    "print(listA)\n",
    "listC = listA\n",
    "emptyList(listC) #fails to alter passed list\n",
    "print(listC)\n",
    "appList(listC) #alters passed list\n",
    "print(listC)\n",
    "print(listA) #shows listA was also altered by passing ListC"
   ]
  },
  {
   "cell_type": "markdown",
   "id": "e398bf50",
   "metadata": {},
   "source": [
    "So function calls in Python work as a shallow copy?\n",
    "I think what is the most confusing is how I can alter the elements through direct assignment in my function call and the source remains unchanged; BUT calling append() alters the original AND copies of that original? Further reading mentions mutable vs immutable types such as strings vs lists, and scope resolution. Times like this are when I miss C++."
   ]
  },
  {
   "cell_type": "markdown",
   "id": "e7f19b38-0935-44cd-888a-59c74efa7822",
   "metadata": {},
   "source": [
    "# Problem 4 (Very Easy) \n",
    "You are given a text file that contains the timetable for buses\n",
    "that travel a college campus.  The first line of the file\n",
    "contains the name for each stop on the bus system separated by\n",
    "colons.  Each following line contains the times using a 24-hour\n",
    "clock at which each bus in the system will arrive at a bus stop,\n",
    "also separated by colons.\n",
    "\n",
    "The timetable will have the following format:\n",
    "\n",
    "| BUS | Athens | Ardmore | Harvest| Huntsville| Athens|\n",
    "|-----|--------|---------|--------|-----------|-------|\n",
    "|48  | 0800 | 0830| 0845 | 0915 | 1015|\n",
    "|49  | 0830 | 0900| 0915 | 0945 | 1045|\n",
    "|50  | 0900 | 0930| 0945 | 1015 | 1115|\n",
    "\n",
    "Write a program in Python that reads this file and outputs a row\n",
    "for each bus stop, showing the times when a bus arrives at that\n",
    "stop, formated in a table (remember... someone has already done it for you)."
   ]
  },
  {
   "cell_type": "code",
   "execution_count": 62,
   "id": "b68487ec-6192-471f-9d98-88b159e75067",
   "metadata": {},
   "outputs": [
    {
     "data": {
      "text/html": [
       "<style  type=\"text/css\" >\n",
       "</style><table id=\"T_c0ea2_\" ><thead>    <tr>        <th class=\"blank level0\" ></th>        <th class=\"col_heading level0 col0\" >0</th>        <th class=\"col_heading level0 col1\" >1</th>        <th class=\"col_heading level0 col2\" >2</th>        <th class=\"col_heading level0 col3\" >3</th>        <th class=\"col_heading level0 col4\" >4</th>        <th class=\"col_heading level0 col5\" >5</th>        <th class=\"col_heading level0 col6\" >6</th>        <th class=\"col_heading level0 col7\" >7</th>        <th class=\"col_heading level0 col8\" >8</th>        <th class=\"col_heading level0 col9\" >9</th>        <th class=\"col_heading level0 col10\" >10</th>        <th class=\"col_heading level0 col11\" >11</th>        <th class=\"col_heading level0 col12\" >12</th>        <th class=\"col_heading level0 col13\" >13</th>        <th class=\"col_heading level0 col14\" >14</th>        <th class=\"col_heading level0 col15\" >15</th>        <th class=\"col_heading level0 col16\" >16</th>    </tr></thead><tbody>\n",
       "                <tr>\n",
       "                        <th id=\"T_c0ea2_level0_row0\" class=\"row_heading level0 row0\" >Westlake</th>\n",
       "                        <td id=\"T_c0ea2_row0_col0\" class=\"data row0 col0\" >620</td>\n",
       "                        <td id=\"T_c0ea2_row0_col1\" class=\"data row0 col1\" >640</td>\n",
       "                        <td id=\"T_c0ea2_row0_col2\" class=\"data row0 col2\" >658</td>\n",
       "                        <td id=\"T_c0ea2_row0_col3\" class=\"data row0 col3\" >718</td>\n",
       "                        <td id=\"T_c0ea2_row0_col4\" class=\"data row0 col4\" >738</td>\n",
       "                        <td id=\"T_c0ea2_row0_col5\" class=\"data row0 col5\" >758</td>\n",
       "                        <td id=\"T_c0ea2_row0_col6\" class=\"data row0 col6\" >818</td>\n",
       "                        <td id=\"T_c0ea2_row0_col7\" class=\"data row0 col7\" >838</td>\n",
       "                        <td id=\"T_c0ea2_row0_col8\" class=\"data row0 col8\" >858</td>\n",
       "                        <td id=\"T_c0ea2_row0_col9\" class=\"data row0 col9\" >925</td>\n",
       "                        <td id=\"T_c0ea2_row0_col10\" class=\"data row0 col10\" >955</td>\n",
       "                        <td id=\"T_c0ea2_row0_col11\" class=\"data row0 col11\" >1025</td>\n",
       "                        <td id=\"T_c0ea2_row0_col12\" class=\"data row0 col12\" >1055</td>\n",
       "                        <td id=\"T_c0ea2_row0_col13\" class=\"data row0 col13\" >1125</td>\n",
       "                        <td id=\"T_c0ea2_row0_col14\" class=\"data row0 col14\" >1155</td>\n",
       "                        <td id=\"T_c0ea2_row0_col15\" class=\"data row0 col15\" >1225</td>\n",
       "                        <td id=\"T_c0ea2_row0_col16\" class=\"data row0 col16\" >1255</td>\n",
       "            </tr>\n",
       "            <tr>\n",
       "                        <th id=\"T_c0ea2_level0_row1\" class=\"row_heading level0 row1\" >Eastlake</th>\n",
       "                        <td id=\"T_c0ea2_row1_col0\" class=\"data row1 col0\" >631</td>\n",
       "                        <td id=\"T_c0ea2_row1_col1\" class=\"data row1 col1\" >651</td>\n",
       "                        <td id=\"T_c0ea2_row1_col2\" class=\"data row1 col2\" >709</td>\n",
       "                        <td id=\"T_c0ea2_row1_col3\" class=\"data row1 col3\" >729</td>\n",
       "                        <td id=\"T_c0ea2_row1_col4\" class=\"data row1 col4\" >749</td>\n",
       "                        <td id=\"T_c0ea2_row1_col5\" class=\"data row1 col5\" >809</td>\n",
       "                        <td id=\"T_c0ea2_row1_col6\" class=\"data row1 col6\" >829</td>\n",
       "                        <td id=\"T_c0ea2_row1_col7\" class=\"data row1 col7\" >849</td>\n",
       "                        <td id=\"T_c0ea2_row1_col8\" class=\"data row1 col8\" >909</td>\n",
       "                        <td id=\"T_c0ea2_row1_col9\" class=\"data row1 col9\" >935</td>\n",
       "                        <td id=\"T_c0ea2_row1_col10\" class=\"data row1 col10\" >1005</td>\n",
       "                        <td id=\"T_c0ea2_row1_col11\" class=\"data row1 col11\" >1035</td>\n",
       "                        <td id=\"T_c0ea2_row1_col12\" class=\"data row1 col12\" >1105</td>\n",
       "                        <td id=\"T_c0ea2_row1_col13\" class=\"data row1 col13\" >1135</td>\n",
       "                        <td id=\"T_c0ea2_row1_col14\" class=\"data row1 col14\" >1205</td>\n",
       "                        <td id=\"T_c0ea2_row1_col15\" class=\"data row1 col15\" >1235</td>\n",
       "                        <td id=\"T_c0ea2_row1_col16\" class=\"data row1 col16\" >105</td>\n",
       "            </tr>\n",
       "            <tr>\n",
       "                        <th id=\"T_c0ea2_level0_row2\" class=\"row_heading level0 row2\" >Victoria(NR)</th>\n",
       "                        <td id=\"T_c0ea2_row2_col0\" class=\"data row2 col0\" >634</td>\n",
       "                        <td id=\"T_c0ea2_row2_col1\" class=\"data row2 col1\" >654</td>\n",
       "                        <td id=\"T_c0ea2_row2_col2\" class=\"data row2 col2\" >712</td>\n",
       "                        <td id=\"T_c0ea2_row2_col3\" class=\"data row2 col3\" >732</td>\n",
       "                        <td id=\"T_c0ea2_row2_col4\" class=\"data row2 col4\" >752</td>\n",
       "                        <td id=\"T_c0ea2_row2_col5\" class=\"data row2 col5\" >812</td>\n",
       "                        <td id=\"T_c0ea2_row2_col6\" class=\"data row2 col6\" >832</td>\n",
       "                        <td id=\"T_c0ea2_row2_col7\" class=\"data row2 col7\" >852</td>\n",
       "                        <td id=\"T_c0ea2_row2_col8\" class=\"data row2 col8\" >912</td>\n",
       "                        <td id=\"T_c0ea2_row2_col9\" class=\"data row2 col9\" >939</td>\n",
       "                        <td id=\"T_c0ea2_row2_col10\" class=\"data row2 col10\" >1009</td>\n",
       "                        <td id=\"T_c0ea2_row2_col11\" class=\"data row2 col11\" >1039</td>\n",
       "                        <td id=\"T_c0ea2_row2_col12\" class=\"data row2 col12\" >1109</td>\n",
       "                        <td id=\"T_c0ea2_row2_col13\" class=\"data row2 col13\" >1139</td>\n",
       "                        <td id=\"T_c0ea2_row2_col14\" class=\"data row2 col14\" >1209</td>\n",
       "                        <td id=\"T_c0ea2_row2_col15\" class=\"data row2 col15\" >1239</td>\n",
       "                        <td id=\"T_c0ea2_row2_col16\" class=\"data row2 col16\" >109</td>\n",
       "            </tr>\n",
       "            <tr>\n",
       "                        <th id=\"T_c0ea2_level0_row3\" class=\"row_heading level0 row3\" >Embankment</th>\n",
       "                        <td id=\"T_c0ea2_row3_col0\" class=\"data row3 col0\" >641</td>\n",
       "                        <td id=\"T_c0ea2_row3_col1\" class=\"data row3 col1\" >701</td>\n",
       "                        <td id=\"T_c0ea2_row3_col2\" class=\"data row3 col2\" >719</td>\n",
       "                        <td id=\"T_c0ea2_row3_col3\" class=\"data row3 col3\" >739</td>\n",
       "                        <td id=\"T_c0ea2_row3_col4\" class=\"data row3 col4\" >759</td>\n",
       "                        <td id=\"T_c0ea2_row3_col5\" class=\"data row3 col5\" >819</td>\n",
       "                        <td id=\"T_c0ea2_row3_col6\" class=\"data row3 col6\" >839</td>\n",
       "                        <td id=\"T_c0ea2_row3_col7\" class=\"data row3 col7\" >859</td>\n",
       "                        <td id=\"T_c0ea2_row3_col8\" class=\"data row3 col8\" >919</td>\n",
       "                        <td id=\"T_c0ea2_row3_col9\" class=\"data row3 col9\" >946</td>\n",
       "                        <td id=\"T_c0ea2_row3_col10\" class=\"data row3 col10\" >1016</td>\n",
       "                        <td id=\"T_c0ea2_row3_col11\" class=\"data row3 col11\" >1046</td>\n",
       "                        <td id=\"T_c0ea2_row3_col12\" class=\"data row3 col12\" >1116</td>\n",
       "                        <td id=\"T_c0ea2_row3_col13\" class=\"data row3 col13\" >1146</td>\n",
       "                        <td id=\"T_c0ea2_row3_col14\" class=\"data row3 col14\" >1216</td>\n",
       "                        <td id=\"T_c0ea2_row3_col15\" class=\"data row3 col15\" >1246</td>\n",
       "                        <td id=\"T_c0ea2_row3_col16\" class=\"data row3 col16\" >116</td>\n",
       "            </tr>\n",
       "            <tr>\n",
       "                        <th id=\"T_c0ea2_level0_row4\" class=\"row_heading level0 row4\" >Bank</th>\n",
       "                        <td id=\"T_c0ea2_row4_col0\" class=\"data row4 col0\" >645</td>\n",
       "                        <td id=\"T_c0ea2_row4_col1\" class=\"data row4 col1\" >705</td>\n",
       "                        <td id=\"T_c0ea2_row4_col2\" class=\"data row4 col2\" >723</td>\n",
       "                        <td id=\"T_c0ea2_row4_col3\" class=\"data row4 col3\" >743</td>\n",
       "                        <td id=\"T_c0ea2_row4_col4\" class=\"data row4 col4\" >803</td>\n",
       "                        <td id=\"T_c0ea2_row4_col5\" class=\"data row4 col5\" >823</td>\n",
       "                        <td id=\"T_c0ea2_row4_col6\" class=\"data row4 col6\" >843</td>\n",
       "                        <td id=\"T_c0ea2_row4_col7\" class=\"data row4 col7\" >903</td>\n",
       "                        <td id=\"T_c0ea2_row4_col8\" class=\"data row4 col8\" >924</td>\n",
       "                        <td id=\"T_c0ea2_row4_col9\" class=\"data row4 col9\" >951</td>\n",
       "                        <td id=\"T_c0ea2_row4_col10\" class=\"data row4 col10\" >1021</td>\n",
       "                        <td id=\"T_c0ea2_row4_col11\" class=\"data row4 col11\" >1051</td>\n",
       "                        <td id=\"T_c0ea2_row4_col12\" class=\"data row4 col12\" >1121</td>\n",
       "                        <td id=\"T_c0ea2_row4_col13\" class=\"data row4 col13\" >1151</td>\n",
       "                        <td id=\"T_c0ea2_row4_col14\" class=\"data row4 col14\" >1221</td>\n",
       "                        <td id=\"T_c0ea2_row4_col15\" class=\"data row4 col15\" >1251</td>\n",
       "                        <td id=\"T_c0ea2_row4_col16\" class=\"data row4 col16\" >121</td>\n",
       "            </tr>\n",
       "            <tr>\n",
       "                        <th id=\"T_c0ea2_level0_row5\" class=\"row_heading level0 row5\" >King's Cross</th>\n",
       "                        <td id=\"T_c0ea2_row5_col0\" class=\"data row5 col0\" >655</td>\n",
       "                        <td id=\"T_c0ea2_row5_col1\" class=\"data row5 col1\" >715</td>\n",
       "                        <td id=\"T_c0ea2_row5_col2\" class=\"data row5 col2\" >735</td>\n",
       "                        <td id=\"T_c0ea2_row5_col3\" class=\"data row5 col3\" >755</td>\n",
       "                        <td id=\"T_c0ea2_row5_col4\" class=\"data row5 col4\" >815</td>\n",
       "                        <td id=\"T_c0ea2_row5_col5\" class=\"data row5 col5\" >835</td>\n",
       "                        <td id=\"T_c0ea2_row5_col6\" class=\"data row5 col6\" >857</td>\n",
       "                        <td id=\"T_c0ea2_row5_col7\" class=\"data row5 col7\" >915</td>\n",
       "                        <td id=\"T_c0ea2_row5_col8\" class=\"data row5 col8\" >935</td>\n",
       "                        <td id=\"T_c0ea2_row5_col9\" class=\"data row5 col9\" >954</td>\n",
       "                        <td id=\"T_c0ea2_row5_col10\" class=\"data row5 col10\" >1024</td>\n",
       "                        <td id=\"T_c0ea2_row5_col11\" class=\"data row5 col11\" >1054</td>\n",
       "                        <td id=\"T_c0ea2_row5_col12\" class=\"data row5 col12\" >1124</td>\n",
       "                        <td id=\"T_c0ea2_row5_col13\" class=\"data row5 col13\" >1154</td>\n",
       "                        <td id=\"T_c0ea2_row5_col14\" class=\"data row5 col14\" >1224</td>\n",
       "                        <td id=\"T_c0ea2_row5_col15\" class=\"data row5 col15\" >1254</td>\n",
       "                        <td id=\"T_c0ea2_row5_col16\" class=\"data row5 col16\" >124</td>\n",
       "            </tr>\n",
       "            <tr>\n",
       "                        <th id=\"T_c0ea2_level0_row6\" class=\"row_heading level0 row6\" > St. Pancras</th>\n",
       "                        <td id=\"T_c0ea2_row6_col0\" class=\"data row6 col0\" >701</td>\n",
       "                        <td id=\"T_c0ea2_row6_col1\" class=\"data row6 col1\" >721</td>\n",
       "                        <td id=\"T_c0ea2_row6_col2\" class=\"data row6 col2\" >741</td>\n",
       "                        <td id=\"T_c0ea2_row6_col3\" class=\"data row6 col3\" >801</td>\n",
       "                        <td id=\"T_c0ea2_row6_col4\" class=\"data row6 col4\" >821</td>\n",
       "                        <td id=\"T_c0ea2_row6_col5\" class=\"data row6 col5\" >841</td>\n",
       "                        <td id=\"T_c0ea2_row6_col6\" class=\"data row6 col6\" >902</td>\n",
       "                        <td id=\"T_c0ea2_row6_col7\" class=\"data row6 col7\" >920</td>\n",
       "                        <td id=\"T_c0ea2_row6_col8\" class=\"data row6 col8\" >940</td>\n",
       "                        <td id=\"T_c0ea2_row6_col9\" class=\"data row6 col9\" >959</td>\n",
       "                        <td id=\"T_c0ea2_row6_col10\" class=\"data row6 col10\" >1029</td>\n",
       "                        <td id=\"T_c0ea2_row6_col11\" class=\"data row6 col11\" >1059</td>\n",
       "                        <td id=\"T_c0ea2_row6_col12\" class=\"data row6 col12\" >1129</td>\n",
       "                        <td id=\"T_c0ea2_row6_col13\" class=\"data row6 col13\" >1159</td>\n",
       "                        <td id=\"T_c0ea2_row6_col14\" class=\"data row6 col14\" >1229</td>\n",
       "                        <td id=\"T_c0ea2_row6_col15\" class=\"data row6 col15\" >1259</td>\n",
       "                        <td id=\"T_c0ea2_row6_col16\" class=\"data row6 col16\" >129</td>\n",
       "            </tr>\n",
       "            <tr>\n",
       "                        <th id=\"T_c0ea2_level0_row7\" class=\"row_heading level0 row7\" >Euston</th>\n",
       "                        <td id=\"T_c0ea2_row7_col0\" class=\"data row7 col0\" >710</td>\n",
       "                        <td id=\"T_c0ea2_row7_col1\" class=\"data row7 col1\" >730</td>\n",
       "                        <td id=\"T_c0ea2_row7_col2\" class=\"data row7 col2\" >750</td>\n",
       "                        <td id=\"T_c0ea2_row7_col3\" class=\"data row7 col3\" >810</td>\n",
       "                        <td id=\"T_c0ea2_row7_col4\" class=\"data row7 col4\" >830</td>\n",
       "                        <td id=\"T_c0ea2_row7_col5\" class=\"data row7 col5\" >850</td>\n",
       "                        <td id=\"T_c0ea2_row7_col6\" class=\"data row7 col6\" >909</td>\n",
       "                        <td id=\"T_c0ea2_row7_col7\" class=\"data row7 col7\" >927</td>\n",
       "                        <td id=\"T_c0ea2_row7_col8\" class=\"data row7 col8\" >947</td>\n",
       "                        <td id=\"T_c0ea2_row7_col9\" class=\"data row7 col9\" >1006</td>\n",
       "                        <td id=\"T_c0ea2_row7_col10\" class=\"data row7 col10\" >1036</td>\n",
       "                        <td id=\"T_c0ea2_row7_col11\" class=\"data row7 col11\" >1106</td>\n",
       "                        <td id=\"T_c0ea2_row7_col12\" class=\"data row7 col12\" >1136</td>\n",
       "                        <td id=\"T_c0ea2_row7_col13\" class=\"data row7 col13\" >1206</td>\n",
       "                        <td id=\"T_c0ea2_row7_col14\" class=\"data row7 col14\" >1236</td>\n",
       "                        <td id=\"T_c0ea2_row7_col15\" class=\"data row7 col15\" >106</td>\n",
       "                        <td id=\"T_c0ea2_row7_col16\" class=\"data row7 col16\" >136</td>\n",
       "            </tr>\n",
       "            <tr>\n",
       "                        <th id=\"T_c0ea2_level0_row8\" class=\"row_heading level0 row8\" >Ealing Broadway</th>\n",
       "                        <td id=\"T_c0ea2_row8_col0\" class=\"data row8 col0\" >713</td>\n",
       "                        <td id=\"T_c0ea2_row8_col1\" class=\"data row8 col1\" >733</td>\n",
       "                        <td id=\"T_c0ea2_row8_col2\" class=\"data row8 col2\" >753</td>\n",
       "                        <td id=\"T_c0ea2_row8_col3\" class=\"data row8 col3\" >813</td>\n",
       "                        <td id=\"T_c0ea2_row8_col4\" class=\"data row8 col4\" >833</td>\n",
       "                        <td id=\"T_c0ea2_row8_col5\" class=\"data row8 col5\" >853</td>\n",
       "                        <td id=\"T_c0ea2_row8_col6\" class=\"data row8 col6\" >913</td>\n",
       "                        <td id=\"T_c0ea2_row8_col7\" class=\"data row8 col7\" >931</td>\n",
       "                        <td id=\"T_c0ea2_row8_col8\" class=\"data row8 col8\" >951</td>\n",
       "                        <td id=\"T_c0ea2_row8_col9\" class=\"data row8 col9\" >1010</td>\n",
       "                        <td id=\"T_c0ea2_row8_col10\" class=\"data row8 col10\" >1040</td>\n",
       "                        <td id=\"T_c0ea2_row8_col11\" class=\"data row8 col11\" >1110</td>\n",
       "                        <td id=\"T_c0ea2_row8_col12\" class=\"data row8 col12\" >1140</td>\n",
       "                        <td id=\"T_c0ea2_row8_col13\" class=\"data row8 col13\" >1210</td>\n",
       "                        <td id=\"T_c0ea2_row8_col14\" class=\"data row8 col14\" >1240</td>\n",
       "                        <td id=\"T_c0ea2_row8_col15\" class=\"data row8 col15\" >110</td>\n",
       "                        <td id=\"T_c0ea2_row8_col16\" class=\"data row8 col16\" >140</td>\n",
       "            </tr>\n",
       "            <tr>\n",
       "                        <th id=\"T_c0ea2_level0_row9\" class=\"row_heading level0 row9\" > Uxbridge</th>\n",
       "                        <td id=\"T_c0ea2_row9_col0\" class=\"data row9 col0\" >722</td>\n",
       "                        <td id=\"T_c0ea2_row9_col1\" class=\"data row9 col1\" >742</td>\n",
       "                        <td id=\"T_c0ea2_row9_col2\" class=\"data row9 col2\" >802</td>\n",
       "                        <td id=\"T_c0ea2_row9_col3\" class=\"data row9 col3\" >822</td>\n",
       "                        <td id=\"T_c0ea2_row9_col4\" class=\"data row9 col4\" >842</td>\n",
       "                        <td id=\"T_c0ea2_row9_col5\" class=\"data row9 col5\" >902</td>\n",
       "                        <td id=\"T_c0ea2_row9_col6\" class=\"data row9 col6\" >922</td>\n",
       "                        <td id=\"T_c0ea2_row9_col7\" class=\"data row9 col7\" >940</td>\n",
       "                        <td id=\"T_c0ea2_row9_col8\" class=\"data row9 col8\" >1000</td>\n",
       "                        <td id=\"T_c0ea2_row9_col9\" class=\"data row9 col9\" >1019</td>\n",
       "                        <td id=\"T_c0ea2_row9_col10\" class=\"data row9 col10\" >1049</td>\n",
       "                        <td id=\"T_c0ea2_row9_col11\" class=\"data row9 col11\" >1119</td>\n",
       "                        <td id=\"T_c0ea2_row9_col12\" class=\"data row9 col12\" >1149</td>\n",
       "                        <td id=\"T_c0ea2_row9_col13\" class=\"data row9 col13\" >1219</td>\n",
       "                        <td id=\"T_c0ea2_row9_col14\" class=\"data row9 col14\" >1249</td>\n",
       "                        <td id=\"T_c0ea2_row9_col15\" class=\"data row9 col15\" >119</td>\n",
       "                        <td id=\"T_c0ea2_row9_col16\" class=\"data row9 col16\" >149</td>\n",
       "            </tr>\n",
       "    </tbody></table>"
      ],
      "text/plain": [
       "<pandas.io.formats.style.Styler at 0x1ac7f8ead30>"
      ]
     },
     "execution_count": 62,
     "metadata": {},
     "output_type": "execute_result"
    }
   ],
   "source": [
    "import pandas as pd\n",
    "dataFrame = pd.read_csv('bussin.txt', sep=':')\n",
    "dataFrame = dataFrame.transpose()\n",
    "dataFrame = dataFrame.iloc[1:,] #we don't need the Bus Row, remove it\n",
    "dataFrame.style\n",
    "\n",
    "        "
   ]
  },
  {
   "cell_type": "markdown",
   "id": "084de79a-313d-4a6d-abe3-ef6d1f7d2cdd",
   "metadata": {},
   "source": [
    "# Problem 5 (Medium) \n",
    "Continuing our theme of waiting on the bus, consider again the\n",
    "bus timetable from the previous question.  The first line of the\n",
    "file contains the name for each stop on the bus system separated\n",
    "by colons.  Each following line contains the times using a\n",
    "24-hour clock at which each bus in the system will arrive at a\n",
    "bus stop, also separated by colons.  A sample file is attached to\n",
    "this problem.\n",
    "\n",
    "Write a Python program that for enumerates each of the bus stops and\n",
    "departure times from that station with each value separated by a colon\n",
    "\n",
    "The output from your program should be in the following\n",
    "format:\n",
    "\n",
    "Athens: 0800:0830:0900\n",
    "\n",
    "Ardmore: 0830:0900:0930\n",
    "\n",
    "Harvest: 0845:0915:0945\n",
    "\n",
    "Huntsville: 0915:0945:1015\n",
    "\n",
    "Athens: 1015:1045:1115\n"
   ]
  },
  {
   "cell_type": "code",
   "execution_count": 92,
   "id": "1330b167-5468-403e-8f9c-62659c4e1227",
   "metadata": {},
   "outputs": [
    {
     "name": "stdout",
     "output_type": "stream",
     "text": [
      "Westlake:620 :640 :658 :718 :738 :758 :818 :838 :858 :925 :955 :1025 : 1055 :1125 :1155 :1225 :1255 \n",
      "Eastlake:631 :651 :709 :729 :749 :809 :829 :849 :909 :935 :1005 :1035 :1105 :1135 :1205 :1235 :105 \n",
      "Victoria(NR):634 :654 :712 :732 :752 :812 :832 :852 :912 :939 :1009 :1039 :1109 :1139 :1209 :1239 :109 \n",
      "Embankment:641 :701 :719 :739 :759 :819 :839 :859 :919 :946 :1016 :1046 :1116 :1146 :1216 :1246 :116 \n",
      "Bank:645 :705 :723 :743 :803 :823 :843 :903 :924 :951 :1021 :1051 :1121 :1151 :1221 :1251 :121 \n",
      "King's Cross:655 :715 :735 :755 :815 :835 :857 :915 :935 :954 :1024 :1054 :1124 :1154 :1224 :1254 :124 \n",
      " St. Pancras:701 :721 :741 :801 :821 :841 :902 :920 :940 :959 :1029 :1059 :1129 :1159 :1229 :1259 :129 \n",
      "Euston:710 :730 :750 :810 :830 :850 :909 :927 :947 :1006 :1036 :1106 :1136 :1206 :1236 :106 :136 \n",
      "Ealing Broadway:713 :733 :753 :813 :833 :853 :913 :931 :951 :1010 :1040 :1110 :1140 :1210 :1240 :110 :140 \n",
      " Uxbridge:722:742:802:822:842:902:922:940:1000:1019:1049:1119:1149:1219:1249:119:149\n"
     ]
    }
   ],
   "source": [
    "import pandas as pd\n",
    "dataFrame = pd.read_csv('bussin.txt', sep=':', header=None)\n",
    "dataFrame = dataFrame.T\n",
    "dataFrame = dataFrame.iloc[1:,]\n",
    "busList = dataFrame.values.tolist()\n",
    "for x in busList:\n",
    "    print(':'.join(x))\n"
   ]
  },
  {
   "cell_type": "code",
   "execution_count": null,
   "id": "152598e0",
   "metadata": {},
   "outputs": [],
   "source": []
  }
 ],
 "metadata": {
  "kernelspec": {
   "display_name": "Python 3",
   "language": "python",
   "name": "python3"
  },
  "language_info": {
   "codemirror_mode": {
    "name": "ipython",
    "version": 3
   },
   "file_extension": ".py",
   "mimetype": "text/x-python",
   "name": "python",
   "nbconvert_exporter": "python",
   "pygments_lexer": "ipython3",
   "version": "3.8.8"
  }
 },
 "nbformat": 4,
 "nbformat_minor": 5
}
