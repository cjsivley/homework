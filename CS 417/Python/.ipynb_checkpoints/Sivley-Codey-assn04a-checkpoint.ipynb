{
 "cells": [
  {
   "cell_type": "markdown",
   "id": "63cbc0ea-7cd4-4438-bb32-5b9426d83e09",
   "metadata": {},
   "source": [
    "CS417 Assignment 4: Getting your feet wet in Python\n",
    "---\n",
    "# Instructions\n",
    "Each of the following questions is followed by empty code cell. Add your code for the question to the cell and then execute that cell.  Submit the completed notebook by attaching it to the assignment in Blackboard.\n"
   ]
  },
  {
   "cell_type": "markdown",
   "id": "9465d6e4-f49c-438e-9a1d-ccf418e2fed9",
   "metadata": {},
   "source": [
    "## Problem 1 (Easy)\n",
    "Write a word frequency counter: How often does each word\n",
    "  show up in an array of words? Print out a report. (Hint: Use a dictionary to\n",
    "  count of the number of appearances of each word.)"
   ]
  },
  {
   "cell_type": "code",
   "execution_count": 2,
   "id": "366de7f5-8efd-4964-afb2-12734c2142e2",
   "metadata": {},
   "outputs": [
    {
     "name": "stdout",
     "output_type": "stream",
     "text": [
      "Enter String to be quantified\n",
      ">To be, or not to be, that is the question...\n",
      "{'to': 2, 'be': 2, 'or': 1, 'not': 1, 'that': 1, 'is': 1, 'the': 1, 'question': 1}\n"
     ]
    }
   ],
   "source": [
    "#Codey Sivley\n",
    "#CS417 Topics in OOP\n",
    "import string\n",
    "quantWords = {} #the words are placed here, and quantified.\n",
    "userInput = input(\"Enter String to be quantified\\n>\").lower() #no caps\n",
    "userInput = userInput.translate(str.maketrans(\"\",\"\",string.punctuation)) #no punctuation, is there an easier way to do this?\n",
    "splitString = (userInput.split(\" \"))\n",
    "for i in splitString:\n",
    "    if i in quantWords:\n",
    "        quantWords[i]=quantWords.get(i) + 1\n",
    "    else:\n",
    "        quantWords[i]=1\n",
    "print(quantWords)"
   ]
  },
  {
   "cell_type": "markdown",
   "id": "15b4b2ce-9118-4abb-9bbf-ed787721f87c",
   "metadata": {},
   "source": [
    "## Problem 2 (Easy)\n",
    "Given a month and the day of the week that’s the first of\n",
    "  that month entered as arugments on the command line, write a program\n",
    "  that prints a calendar for the month. (HINT: Remember one of the rules of being Pythonic: *Someone else has already done it*.  Do some research to see if you can find a Python library that will help you with this problem)."
   ]
  },
  {
   "cell_type": "code",
   "execution_count": 13,
   "id": "2b365fa9-c81c-4149-9e8f-eda14255d50c",
   "metadata": {},
   "outputs": [
    {
     "name": "stdout",
     "output_type": "stream",
     "text": [
      "   September 2021\n",
      "Su Mo Tu We Th Fr Sa\n",
      "          1  2  3  4\n",
      " 5  6  7  8  9 10 11\n",
      "12 13 14 15 16 17 18\n",
      "19 20 21 22 23 24 25\n",
      "26 27 28 29 30\n",
      "None\n"
     ]
    }
   ],
   "source": [
    "import calendar\n",
    "import sys\n",
    "\n",
    "#how to use argv in jupyter notebook?\n",
    "#month = sys.argv[1] #user specified month\n",
    "#dow = sys.argv[2] #user specified first day of week\n",
    "\n",
    "dow = 6\n",
    "month = 9\n",
    "cal = calendar.TextCalendar(dow)\n",
    "print(cal.prmonth(2021, month))"
   ]
  },
  {
   "cell_type": "markdown",
   "id": "a7e29bca-2e3e-4cb2-a768-47215582850e",
   "metadata": {},
   "source": [
    "## Problem 3 (Easy)\n",
    "Write a function that counts the the characters in a\n",
    "  string input by the user.  Write a main function that calls this\n",
    "  function and displays the string and number of characters."
   ]
  },
  {
   "cell_type": "code",
   "execution_count": 15,
   "id": "f6189d14-e493-4473-a9cd-bffc9560160c",
   "metadata": {},
   "outputs": [
    {
     "name": "stdout",
     "output_type": "stream",
     "text": [
      "Type a string to count characters\n",
      ">Hello there. General Kenobi!\n",
      "String: Hello there. General Kenobi!\n",
      "There are 28 characters in the string.\n"
     ]
    }
   ],
   "source": [
    "def counter(myString):\n",
    "    return len(myString)\n",
    "    \n",
    "def main():\n",
    "    userInput = input(\"Type a string to count characters\\n>\")\n",
    "    print(\"String: \" + userInput)\n",
    "    print(\"There are \" + str(counter(userInput)) + \" characters in the string.\")\n",
    "    \n",
    "main()"
   ]
  }
 ],
 "metadata": {
  "kernelspec": {
   "display_name": "Python 3",
   "language": "python",
   "name": "python3"
  },
  "language_info": {
   "codemirror_mode": {
    "name": "ipython",
    "version": 3
   },
   "file_extension": ".py",
   "mimetype": "text/x-python",
   "name": "python",
   "nbconvert_exporter": "python",
   "pygments_lexer": "ipython3",
   "version": "3.8.8"
  }
 },
 "nbformat": 4,
 "nbformat_minor": 5
}
