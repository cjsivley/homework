{
 "cells": [
  {
   "cell_type": "markdown",
   "id": "d6152987",
   "metadata": {},
   "source": [
    "CS417 Assignment 5: A Foray Into Bioinformatics\n",
    "---\n",
    "# Instructions\n",
    "Each of the following questions is followed by empty code cell. Add your code for the question to the cell and then execute that cell.  Submit the completed notebook by attaching it to the assignment in Blackboard.\n"
   ]
  },
  {
   "cell_type": "markdown",
   "id": "bb945dd1",
   "metadata": {},
   "source": [
    "## Problem 1 (Moderate)\n",
    "We can model the mutation of genes in Python by changing\n",
    "  a randomly selecting a position in a string representing a DNA\n",
    "  molecule.\n",
    "\n",
    "  Remembering that your Glorious Instructor is NOT a molecular\n",
    "  biologist, note that DNA is a molecule of bases in a double-helix\n",
    "  structure.  We identify these bases as being of type A, C, G, and T\n",
    "  and can describe DNA in text strings composed of an alphabet that\n",
    "  contains those four letters.\n",
    "\n",
    "  A lot of what happens within the cells in your body is regulated\n",
    "  through a somewhat-poorly understood mechanism that turns things on or\n",
    "  off in the genes in your cell.  One part of this mechanism consists of\n",
    "  molecules called \\texttt{transcription factors} that float around in\n",
    "  your cells and attach to DNA, and thus turning genes on and off. Yes,\n",
    "  I know that Prof. Cline and Prof. Pittman in our Biology program are\n",
    "  internally screaming in agony over this simplistic explanation,\n",
    "  but... I'm not a molecular biologist.\n",
    "\n",
    "## Example Frequency Table For Sequences TAG, GGT, and GGG\n",
    "|base|0|1|2|\n",
    "|----|-|-|-|\n",
    "|A   |0|1|0|\n",
    "|C   |0|0|0|\n",
    "|G   |2|2|2|\n",
    "|T    |1|0|1|\n",
    "\n",
    "Transcription factors will bind preferentially to specific DNA sequences\n",
    "and these binding preferences can be represented by a table of\n",
    "frequencies of given symbols of each position of a\n",
    "pattern. The table tells us that if the base A appears once\n",
    "in index 1 of a DNA string, base C does not occur at all, base G\n",
    "appears twice in all positions, and base T appears once in the beginning\n",
    "and end of the strings.\n",
    "\n",
    "Let's look at how we can store this type of frequency matrix in a Python\n",
    "program and look at how we can use to do useful (for a bioinformatics\n",
    "person) things.\n"
   ]
  },
  {
   "cell_type": "code",
   "execution_count": 1,
   "id": "8aa2cc66",
   "metadata": {},
   "outputs": [],
   "source": [
    "def frequencyTable(dnaList):\n",
    "    n = max([len(dna) for dna in dnaList])\n",
    "    frequency_matrix = {\n",
    "        'A': [0]*n,\n",
    "        'C': [0]*n,\n",
    "        'G': [0]*n,\n",
    "        'T': [0]*n\n",
    "        }\n",
    "    for dna in dnaList:\n",
    "        for index,base in enumerate(dna):\n",
    "            frequency_matrix[base][index] += 1\n",
    "\n",
    "    return frequency_matrix"
   ]
  },
  {
   "cell_type": "markdown",
   "id": "cc1807af",
   "metadata": {},
   "source": [
    "  Using the `random.randint()` and\n",
    "  `random.choice()` functions from the Python `random`\n",
    "  module, write a function that will mutate a DNA string. Then, use the\n",
    "  frequency table function  to analyze the changes that\n",
    "  occur in frequencies if you randomly change 100 positions in a 1000\n",
    "  gene DNA sequence.   Your program should randomly generate a DNA\n",
    "  string with 1000 bases, display the frequency table of this string,\n",
    "  apply 100 mutations to the string, and then print the frequency table\n",
    "  for the mutated string."
   ]
  },
  {
   "cell_type": "code",
   "execution_count": 41,
   "id": "d9045285",
   "metadata": {},
   "outputs": [
    {
     "name": "stdout",
     "output_type": "stream",
     "text": [
      "{'A': [240], 'C': [262], 'G': [270], 'T': [228]}\n",
      "{'A': [251], 'C': [262], 'G': [269], 'T': [218]}\n"
     ]
    }
   ],
   "source": [
    "import random\n",
    "random.seed() #seed based on clock\n",
    "\n",
    "def roll():\n",
    "    return random.randint(0,999)\n",
    "\n",
    "def frequencyTable(dnaList):\n",
    "    n = max([len(dna) for dna in dnaList])\n",
    "    frequency_matrix = {\n",
    "        'A': [0]*n,\n",
    "        'C': [0]*n,\n",
    "        'G': [0]*n,\n",
    "        'T': [0]*n\n",
    "        }\n",
    "    for dna in dnaList:\n",
    "        for index,base in enumerate(dna):\n",
    "            frequency_matrix[base][index] += 1\n",
    "\n",
    "    return frequency_matrix\n",
    "\n",
    "def mutate(current):\n",
    "    mutation = random.choice(bases)\n",
    "    while current == mutation:\n",
    "        mutation = random.choice(bases)\n",
    "    return mutation\n",
    "\n",
    "bases = ['A','C','G','T']\n",
    "dnaStrand = [] #placeholder for generated DNA strand\n",
    "mutations = [] #each location must be unique\n",
    "#generate DNA string\n",
    "for i in range(0,1000):\n",
    "    dnaStrand.append(random.choice(bases))\n",
    "\n",
    "print(frequencyTable(dnaStrand))\n",
    "\n",
    "#generate mutation locations\n",
    "for i in range(0,100):\n",
    "    current = roll()\n",
    "    while current in mutations:\n",
    "        current = roll()\n",
    "    mutations.append(current)\n",
    "\n",
    "#apply mutations flips at locations\n",
    "for x in mutations:\n",
    "    #print(\"Location: %d\" % x)\n",
    "    #print(\"Current base: %s\" % dnaStrand[x])\n",
    "    dnaStrand[x] = mutate(dnaStrand[x])\n",
    "    #print(\"Mutated to: %s\" % dnaStrand[x])\n",
    "    \n",
    "print(frequencyTable(dnaStrand))"
   ]
  },
  {
   "cell_type": "markdown",
   "id": "a96e83d8",
   "metadata": {},
   "source": [
    "## Problem 2 (Easy)\n",
    "Use the graphing functions within the `pandas` libary to build a bar chart that compares the two frequency tables from the previous problem.   You will need to construct a data frame and then tell that data frame to graph itself in a bar chart.  You can find a discussion on how to do this at the following URL: [https://www.shanelynn.ie/bar-plots-in-python-using-pandas-dataframes/](https://www.shanelynn.ie/bar-plots-in-python-using-pandas-dataframes/)"
   ]
  },
  {
   "cell_type": "code",
   "execution_count": 1,
   "id": "cd8f6d29",
   "metadata": {},
   "outputs": [
    {
     "data": {
      "text/plain": [
       "Text(0.5, 0, 'DNA Strand')"
      ]
     },
     "execution_count": 1,
     "metadata": {},
     "output_type": "execute_result"
    },
    {
     "data": {
      "image/png": "[encoded data removed]",
      "text/plain": [
       "<Figure size 432x288 with 1 Axes>"
      ]
     },
     "metadata": {
      "needs_background": "light"
     },
     "output_type": "display_data"
    },
    {
     "data": {
      "image/png": "[encoded data removed]",
      "text/plain": [
       "<Figure size 432x288 with 1 Axes>"
      ]
     },
     "metadata": {
      "needs_background": "light"
     },
     "output_type": "display_data"
    }
   ],
   "source": [
    "import random\n",
    "import pandas as pd\n",
    "from matplotlib import pyplot as plt\n",
    "random.seed() #seed based on clock\n",
    "\n",
    "def roll():\n",
    "    return random.randint(0,999)\n",
    "\n",
    "def frequencyTable(dnaList):\n",
    "    n = max([len(dna) for dna in dnaList])\n",
    "    frequency_matrix = {\n",
    "        'A': [0]*n,\n",
    "        'C': [0]*n,\n",
    "        'G': [0]*n,\n",
    "        'T': [0]*n\n",
    "        }\n",
    "    for dna in dnaList:\n",
    "        for index,base in enumerate(dna):\n",
    "            frequency_matrix[base][index] += 1\n",
    "\n",
    "    return frequency_matrix\n",
    "\n",
    "def mutate(current):\n",
    "    mutation = random.choice(bases)\n",
    "    while current == mutation:\n",
    "        mutation = random.choice(bases)\n",
    "    return mutation\n",
    "\n",
    "bases = ['A','C','G','T']\n",
    "dnaStrand = [] #placeholder for generated DNA strand\n",
    "mutations = [] #each location must be unique\n",
    "#generate DNA string\n",
    "for i in range(0,1000):\n",
    "    dnaStrand.append(random.choice(bases))\n",
    "\n",
    "preMutate = list(frequencyTable(dnaStrand).values())\n",
    "#remove nested list structure:\n",
    "preMutateCleaned = [x for y in preMutate for x in y]\n",
    "\n",
    "#generate mutation locations\n",
    "for i in range(0,100):\n",
    "    current = roll()\n",
    "    while current in mutations:\n",
    "        current = roll()\n",
    "    mutations.append(current)\n",
    "\n",
    "#apply mutations flips at locations\n",
    "for x in mutations:\n",
    "    dnaStrand[x] = mutate(dnaStrand[x])\n",
    "    \n",
    "postMutate = list(frequencyTable(dnaStrand).values())\n",
    "postMutateCleaned = [x for y in postMutate for x in y]\n",
    "\n",
    "#plot data\n",
    "mutateData = pd.DataFrame({\n",
    "    \"PreMutation\":preMutateCleaned,\n",
    "    \"PostMutation\":postMutateCleaned\n",
    "}, index=bases)\n",
    "mutateData.plot(kind=\"bar\").legend(loc=\"lower left\")\n",
    "plt.xticks(rotation=0)\n",
    "plt.title(\"Distribution of DNA Bases Pre/Post Mutation\")\n",
    "plt.xlabel(\"Base\")\n",
    "plt.ylabel(\"Occurances\")\n",
    "\n",
    "#just for fun\n",
    "preSum = sum(preMutateCleaned)\n",
    "postSum = sum(postMutateCleaned)\n",
    "prePercent = [(100*(x/preSum)) for y in preMutate for x in y]\n",
    "postPercent = [(100*(x/postSum)) for y in postMutate for x in y]\n",
    "aList=[prePercent[0],postPercent[0]]\n",
    "cList=[prePercent[1],postPercent[1]]\n",
    "gList=[prePercent[2],postPercent[2]]\n",
    "tList=[prePercent[3],postPercent[3]]\n",
    "\n",
    "percentData = pd.DataFrame({\n",
    "    \"A\":aList,\n",
    "    \"C\":cList,\n",
    "    \"G\":gList,\n",
    "    \"T\":tList\n",
    "}, index=[\"PreMutation\",\"PostMutation\"])\n",
    "percentData.plot(kind=\"bar\", stacked=True, grid=True)\n",
    "plt.xticks(rotation=0)\n",
    "plt.title(\"Percentage Distribution of Bases\")\n",
    "plt.ylabel(\"Percent\")\n",
    "plt.xlabel(\"DNA Strand\")\n"
   ]
  },
  {
   "cell_type": "code",
   "execution_count": null,
   "id": "f135549f",
   "metadata": {},
   "outputs": [],
   "source": []
  }
 ],
 "metadata": {
  "kernelspec": {
   "display_name": "Python 3",
   "language": "python",
   "name": "python3"
  },
  "language_info": {
   "codemirror_mode": {
    "name": "ipython",
    "version": 3
   },
   "file_extension": ".py",
   "mimetype": "text/x-python",
   "name": "python",
   "nbconvert_exporter": "python",
   "pygments_lexer": "ipython3",
   "version": "3.8.8"
  }
 },
 "nbformat": 4,
 "nbformat_minor": 5
}
